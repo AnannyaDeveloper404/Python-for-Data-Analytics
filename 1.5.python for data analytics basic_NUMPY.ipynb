{
 "cells": [
  {
   "cell_type": "markdown",
   "id": "19cd082c",
   "metadata": {},
   "source": [
    "# NUMPY"
   ]
  },
  {
   "cell_type": "code",
   "execution_count": 1,
   "id": "1ed5421e",
   "metadata": {},
   "outputs": [
    {
     "ename": "ModuleNotFoundError",
     "evalue": "No module named 'numpy'",
     "output_type": "error",
     "traceback": [
      "\u001b[1;31m---------------------------------------------------------------------------\u001b[0m",
      "\u001b[1;31mModuleNotFoundError\u001b[0m                       Traceback (most recent call last)",
      "Cell \u001b[1;32mIn[1], line 1\u001b[0m\n\u001b[1;32m----> 1\u001b[0m \u001b[38;5;28;01mimport\u001b[39;00m \u001b[38;5;21;01mnumpy\u001b[39;00m \u001b[38;5;28;01mas\u001b[39;00m \u001b[38;5;21;01mnp\u001b[39;00m\n\u001b[0;32m      2\u001b[0m \u001b[38;5;28;01mimport\u001b[39;00m \u001b[38;5;21;01mmath\u001b[39;00m\n",
      "\u001b[1;31mModuleNotFoundError\u001b[0m: No module named 'numpy'"
     ]
    }
   ],
   "source": [
    "\n",
    "import numpy as np\n",
    "import math"
   ]
  },
  {
   "cell_type": "code",
   "execution_count": 3,
   "id": "de1f4e7d",
   "metadata": {},
   "outputs": [
    {
     "name": "stdout",
     "output_type": "stream",
     "text": [
      "[1 2 3]\n",
      "1\n"
     ]
    }
   ],
   "source": [
    "a=np.array([1,2,3])\n",
    "print(a)\n",
    "print(a.ndim)"
   ]
  },
  {
   "cell_type": "code",
   "execution_count": 4,
   "id": "010f8e12",
   "metadata": {},
   "outputs": [
    {
     "data": {
      "text/plain": [
       "(2, 3)"
      ]
     },
     "execution_count": 4,
     "metadata": {},
     "output_type": "execute_result"
    }
   ],
   "source": [
    "b=np.array([[1,2,3],[31,45,5]])\n",
    "b.shape"
   ]
  },
  {
   "cell_type": "code",
   "execution_count": 5,
   "id": "05a5151a",
   "metadata": {},
   "outputs": [
    {
     "data": {
      "text/plain": [
       "dtype('int32')"
      ]
     },
     "execution_count": 5,
     "metadata": {},
     "output_type": "execute_result"
    }
   ],
   "source": [
    "b.dtype"
   ]
  },
  {
   "cell_type": "code",
   "execution_count": 6,
   "id": "cc6d4521",
   "metadata": {},
   "outputs": [
    {
     "data": {
      "text/plain": [
       "'float64'"
      ]
     },
     "execution_count": 6,
     "metadata": {},
     "output_type": "execute_result"
    }
   ],
   "source": [
    "c=np.array([[2.5,3,5.9],[1.4,3.5,5]])\n",
    "c.dtype.name"
   ]
  },
  {
   "cell_type": "code",
   "execution_count": 7,
   "id": "0f0b8021",
   "metadata": {},
   "outputs": [
    {
     "name": "stdout",
     "output_type": "stream",
     "text": [
      "[[0. 0. 0.]\n",
      " [0. 0. 0.]]\n",
      "[[1. 1. 1.]\n",
      " [1. 1. 1.]]\n"
     ]
    }
   ],
   "source": [
    "d=np.zeros((2,3))\n",
    "e=np.ones((2,3))\n",
    "print(d)\n",
    "print(e)"
   ]
  },
  {
   "cell_type": "code",
   "execution_count": 8,
   "id": "132da05e",
   "metadata": {},
   "outputs": [
    {
     "data": {
      "text/plain": [
       "array([[0.93367773, 0.62188846, 0.05756867],\n",
       "       [0.90761843, 0.6072061 , 0.25251474]])"
      ]
     },
     "execution_count": 8,
     "metadata": {},
     "output_type": "execute_result"
    }
   ],
   "source": [
    "np.random.rand(2,3)"
   ]
  },
  {
   "cell_type": "code",
   "execution_count": 9,
   "id": "bd0bf1bf",
   "metadata": {},
   "outputs": [
    {
     "data": {
      "text/plain": [
       "array([ 1,  3,  5,  7,  9, 11])"
      ]
     },
     "execution_count": 9,
     "metadata": {},
     "output_type": "execute_result"
    }
   ],
   "source": [
    "f=np.arange(1,12,2)\n",
    "f"
   ]
  },
  {
   "cell_type": "markdown",
   "id": "8a4a5793",
   "metadata": {},
   "source": [
    "#\n",
    "# Declaring float sequence of array using LINSPACE"
   ]
  },
  {
   "cell_type": "code",
   "execution_count": 10,
   "id": "41cf4ce4",
   "metadata": {},
   "outputs": [
    {
     "data": {
      "text/plain": [
       "array([0.        , 0.14285714, 0.28571429, 0.42857143, 0.57142857,\n",
       "       0.71428571, 0.85714286, 1.        , 1.14285714, 1.28571429,\n",
       "       1.42857143, 1.57142857, 1.71428571, 1.85714286, 2.        ])"
      ]
     },
     "execution_count": 10,
     "metadata": {},
     "output_type": "execute_result"
    }
   ],
   "source": [
    "np.linspace(0,2,15)"
   ]
  },
  {
   "cell_type": "markdown",
   "id": "14bdf922",
   "metadata": {},
   "source": [
    "#\n",
    "# ARRAY OPERATION: MATHEMATICAL,BOOLEAN etc"
   ]
  },
  {
   "cell_type": "code",
   "execution_count": 11,
   "id": "373c55cd",
   "metadata": {},
   "outputs": [
    {
     "name": "stdout",
     "output_type": "stream",
     "text": [
      "[ 6  8 10 12]\n",
      "[ 5 12 21 32]\n"
     ]
    }
   ],
   "source": [
    "a=np.array([1,2,3,4])\n",
    "b=np.array([5,6,7,8])\n",
    "print(a+b)\n",
    "print(a*b)"
   ]
  },
  {
   "cell_type": "code",
   "execution_count": 12,
   "id": "2554adf6",
   "metadata": {},
   "outputs": [
    {
     "data": {
      "text/plain": [
       "array([False,  True,  True,  True])"
      ]
     },
     "execution_count": 12,
     "metadata": {},
     "output_type": "execute_result"
    }
   ],
   "source": [
    "a>1"
   ]
  },
  {
   "cell_type": "code",
   "execution_count": 13,
   "id": "2edb6094",
   "metadata": {},
   "outputs": [
    {
     "data": {
      "text/plain": [
       "array([False,  True, False,  True])"
      ]
     },
     "execution_count": 13,
     "metadata": {},
     "output_type": "execute_result"
    }
   ],
   "source": [
    "b%2==0"
   ]
  },
  {
   "cell_type": "markdown",
   "id": "50722068",
   "metadata": {},
   "source": [
    "#\n",
    "## MATRIX PRODUCT(@)"
   ]
  },
  {
   "cell_type": "code",
   "execution_count": 14,
   "id": "08f3b7dc",
   "metadata": {},
   "outputs": [
    {
     "name": "stdout",
     "output_type": "stream",
     "text": [
      "[[5 4]\n",
      " [3 4]]\n"
     ]
    }
   ],
   "source": [
    "c=np.array([[1,1],[0,1]])\n",
    "d=np.array([[2,0],[3,4]])\n",
    "print(c@d)"
   ]
  },
  {
   "cell_type": "code",
   "execution_count": 15,
   "id": "f123615f",
   "metadata": {},
   "outputs": [
    {
     "name": "stdout",
     "output_type": "stream",
     "text": [
      "int32\n",
      "float64\n"
     ]
    }
   ],
   "source": [
    "e=np.array([1,2,3,4]) \n",
    "f=np.array([2.2,3.3,4.2,1.1])\n",
    "print(e.dtype)\n",
    "print(f.dtype)"
   ]
  },
  {
   "cell_type": "code",
   "execution_count": 16,
   "id": "3979b956",
   "metadata": {},
   "outputs": [
    {
     "name": "stdout",
     "output_type": "stream",
     "text": [
      "float64\n"
     ]
    }
   ],
   "source": [
    "g=e+f\n",
    "print(g.dtype) #UPCASTING TO FLOAT"
   ]
  },
  {
   "cell_type": "code",
   "execution_count": 17,
   "id": "b71a157b",
   "metadata": {},
   "outputs": [
    {
     "name": "stdout",
     "output_type": "stream",
     "text": [
      "20.799999999999997\n",
      "7.2\n",
      "3.2\n",
      "5.199999999999999\n"
     ]
    }
   ],
   "source": [
    "print(g.sum())\n",
    "print(g.max())\n",
    "print(g.min())\n",
    "print(g.mean())"
   ]
  },
  {
   "cell_type": "code",
   "execution_count": 18,
   "id": "29d94d75",
   "metadata": {},
   "outputs": [
    {
     "data": {
      "text/plain": [
       "array([[ 1,  2,  3,  4,  5,  6,  7,  8],\n",
       "       [ 9, 10, 11, 12, 13, 14, 15, 16]])"
      ]
     },
     "execution_count": 18,
     "metadata": {},
     "output_type": "execute_result"
    }
   ],
   "source": [
    "h=np.arange(1,17).reshape(2,8)\n",
    "h"
   ]
  },
  {
   "cell_type": "code",
   "execution_count": 19,
   "id": "24b54b0c",
   "metadata": {},
   "outputs": [
    {
     "data": {
      "image/png": "[encoded data removed]",
      "text/plain": [
       "<PIL.TiffImagePlugin.TiffImageFile image mode=RGB size=508x339>"
      ]
     },
     "metadata": {},
     "output_type": "display_data"
    }
   ],
   "source": [
    "from PIL import Image\n",
    "from IPython.display import display\n",
    "im=Image.open('istockphoto-1185414460-170667a.tiff.')\n",
    "display(im)"
   ]
  },
  {
   "cell_type": "code",
   "execution_count": 20,
   "id": "77fdd229",
   "metadata": {},
   "outputs": [
    {
     "name": "stdout",
     "output_type": "stream",
     "text": [
      "(339, 508, 3)\n",
      "[[[219 219 219]\n",
      "  [219 219 219]\n",
      "  [219 219 219]\n",
      "  ...\n",
      "  [206 206 206]\n",
      "  [206 206 206]\n",
      "  [206 206 206]]\n",
      "\n",
      " [[219 219 219]\n",
      "  [219 219 219]\n",
      "  [219 219 219]\n",
      "  ...\n",
      "  [206 206 206]\n",
      "  [206 206 206]\n",
      "  [206 206 206]]\n",
      "\n",
      " [[219 219 219]\n",
      "  [219 219 219]\n",
      "  [219 219 219]\n",
      "  ...\n",
      "  [206 206 206]\n",
      "  [206 206 206]\n",
      "  [206 206 206]]\n",
      "\n",
      " ...\n",
      "\n",
      " [[219 219 219]\n",
      "  [219 219 219]\n",
      "  [219 219 219]\n",
      "  ...\n",
      "  [206 206 206]\n",
      "  [206 206 206]\n",
      "  [206 206 206]]\n",
      "\n",
      " [[219 219 219]\n",
      "  [219 219 219]\n",
      "  [219 219 219]\n",
      "  ...\n",
      "  [206 206 206]\n",
      "  [206 206 206]\n",
      "  [206 206 206]]\n",
      "\n",
      " [[219 219 219]\n",
      "  [219 219 219]\n",
      "  [219 219 219]\n",
      "  ...\n",
      "  [206 206 206]\n",
      "  [206 206 206]\n",
      "  [206 206 206]]]\n"
     ]
    }
   ],
   "source": [
    "i=np.array(im)\n",
    "print(i.shape)\n",
    "print(i)"
   ]
  },
  {
   "cell_type": "markdown",
   "id": "f7794c54",
   "metadata": {},
   "source": [
    "#\n",
    "# INDEXING"
   ]
  },
  {
   "cell_type": "code",
   "execution_count": 21,
   "id": "859cf1ef",
   "metadata": {},
   "outputs": [
    {
     "name": "stdout",
     "output_type": "stream",
     "text": [
      "[1 4 6]\n"
     ]
    }
   ],
   "source": [
    "a=np.array([[1,2,7,8],\n",
    "           [3,4,6,9],\n",
    "           [5,6,0,1]])\n",
    "\n",
    "b=np.array([a[0,0],a[1,1],a[2,1]])\n",
    "print(b)"
   ]
  },
  {
   "cell_type": "code",
   "execution_count": 22,
   "id": "d103868c",
   "metadata": {},
   "outputs": [
    {
     "name": "stdout",
     "output_type": "stream",
     "text": [
      "[1 4 6]\n"
     ]
    }
   ],
   "source": [
    "b=np.array(a[[0,1,2],[0,1,1]])#zipping\n",
    "print(b)"
   ]
  },
  {
   "cell_type": "code",
   "execution_count": 23,
   "id": "e73eeb0e",
   "metadata": {},
   "outputs": [
    {
     "data": {
      "text/plain": [
       "array([[False, False,  True,  True],\n",
       "       [False, False,  True,  True],\n",
       "       [ True,  True, False, False]])"
      ]
     },
     "execution_count": 23,
     "metadata": {},
     "output_type": "execute_result"
    }
   ],
   "source": [
    "a>4 #boolean indexing"
   ]
  },
  {
   "cell_type": "code",
   "execution_count": 24,
   "id": "3085e37a",
   "metadata": {},
   "outputs": [
    {
     "name": "stdout",
     "output_type": "stream",
     "text": [
      "[7 8 6 9 6]\n"
     ]
    }
   ],
   "source": [
    "print(a[a>5])"
   ]
  },
  {
   "cell_type": "code",
   "execution_count": 25,
   "id": "ff831caa",
   "metadata": {},
   "outputs": [
    {
     "name": "stdout",
     "output_type": "stream",
     "text": [
      "[[1 2 7 8]]\n"
     ]
    }
   ],
   "source": [
    "print(a[:1])"
   ]
  },
  {
   "cell_type": "code",
   "execution_count": 26,
   "id": "0b01dbb9",
   "metadata": {},
   "outputs": [
    {
     "name": "stdout",
     "output_type": "stream",
     "text": [
      "[[1 2 7 8]\n",
      " [3 4 6 9]\n",
      " [5 6 0 1]]\n"
     ]
    }
   ],
   "source": [
    "print(a)"
   ]
  },
  {
   "cell_type": "code",
   "execution_count": 27,
   "id": "8a1e00b4",
   "metadata": {},
   "outputs": [
    {
     "name": "stdout",
     "output_type": "stream",
     "text": [
      "[[2 7 8]\n",
      " [4 6 9]]\n"
     ]
    }
   ],
   "source": [
    "print(a[:2,1:])"
   ]
  },
  {
   "cell_type": "code",
   "execution_count": 28,
   "id": "5ec728bd",
   "metadata": {},
   "outputs": [
    {
     "name": "stdout",
     "output_type": "stream",
     "text": [
      "before changing [[2]\n",
      " [4]]\n",
      "after changing [[50]\n",
      " [ 4]]\n",
      "[[ 1 50  7  8]\n",
      " [ 3  4  6  9]\n",
      " [ 5  6  0  1]]\n"
     ]
    }
   ],
   "source": [
    "#remember that slicing in array is view of the same data\n",
    "# so change in value cause the change in value in the original array\n",
    "b=a[:2,1:2]\n",
    "print('before changing',b)\n",
    "b[0,0]=50\n",
    "print('after changing',b)\n",
    "print(a)"
   ]
  },
  {
   "cell_type": "code",
   "execution_count": 29,
   "id": "bdea519a",
   "metadata": {},
   "outputs": [
    {
     "data": {
      "text/plain": [
       "array([[1.000e+00, 2.000e+01, 6.000e+00, 2.008e+03, 0.000e+00, 1.000e+00],\n",
       "       [2.000e+00, 3.000e+01, 8.000e+00, 2.007e+03, 1.000e+00, 0.000e+00],\n",
       "       [3.000e+00, 3.200e+01, 7.000e+00, 2.008e+03, 8.000e+00, 9.000e+00],\n",
       "       [4.000e+00, 4.000e+00, 1.000e+00, 2.009e+03, 4.000e+00, 5.000e+00],\n",
       "       [5.000e+00, 1.500e+01, 9.000e+00, 2.008e+03, 4.000e+00, 6.000e+00],\n",
       "       [6.000e+00, 4.500e+01, 2.000e+01, 2.004e+03, 4.500e+01, 6.000e+00]])"
      ]
     },
     "execution_count": 29,
     "metadata": {},
     "output_type": "execute_result"
    }
   ],
   "source": [
    "book=np.genfromtxt('Book1.csv',skip_header=1,delimiter=',')\n",
    "book"
   ]
  },
  {
   "cell_type": "code",
   "execution_count": 30,
   "id": "f0989892",
   "metadata": {},
   "outputs": [
    {
     "name": "stdout",
     "output_type": "stream",
     "text": [
      "[1. 2. 3. 4. 5. 6.]\n",
      "[[1.]\n",
      " [2.]\n",
      " [3.]\n",
      " [4.]\n",
      " [5.]\n",
      " [6.]]\n"
     ]
    }
   ],
   "source": [
    "print(book[:,0])\n",
    "print(book[:,0:1])               #**DIFFERENCE**"
   ]
  },
  {
   "cell_type": "code",
   "execution_count": 32,
   "id": "adc0d7e7",
   "metadata": {},
   "outputs": [
    {
     "name": "stdout",
     "output_type": "stream",
     "text": [
      "[[2.000e+01 2.008e+03 0.000e+00]\n",
      " [3.000e+01 2.007e+03 1.000e+00]\n",
      " [3.200e+01 2.008e+03 8.000e+00]\n",
      " [4.000e+00 2.009e+03 4.000e+00]\n",
      " [1.500e+01 2.008e+03 4.000e+00]\n",
      " [4.500e+01 2.004e+03 4.500e+01]]\n"
     ]
    }
   ],
   "source": [
    "print(book[:,[1,3,4]])            #nonconsecutive column"
   ]
  },
  {
   "cell_type": "code",
   "execution_count": 34,
   "id": "84d5a631",
   "metadata": {},
   "outputs": [
    {
     "name": "stdout",
     "output_type": "stream",
     "text": [
      "4.5\n"
     ]
    }
   ],
   "source": [
    "print(book[:,-1].mean())    #SELECTING THE LAST COLUMN"
   ]
  },
  {
   "cell_type": "markdown",
   "id": "36ac7083",
   "metadata": {},
   "source": [
    "# ##Converting two dimensional list to onedimesional list which contains tuples"
   ]
  },
  {
   "cell_type": "code",
   "execution_count": 39,
   "id": "030ed23e",
   "metadata": {},
   "outputs": [
    {
     "name": "stdout",
     "output_type": "stream",
     "text": [
      "[(1, 20,  6, 2008,  0, 1) (2, 30,  8, 2007,  1, 0)\n",
      " (3, 32,  7, 2008,  8, 9) (4,  4,  1, 2009,  4, 5)\n",
      " (5, 15,  9, 2008,  4, 6) (6, 45, 20, 2004, 45, 6)]\n"
     ]
    },
    {
     "data": {
      "text/plain": [
       "(6,)"
      ]
     },
     "execution_count": 39,
     "metadata": {},
     "output_type": "execute_result"
    }
   ],
   "source": [
    "book2=np.genfromtxt('Book1.csv',dtype=None,delimiter=',',skip_header=1,\n",
    "                    names=('entries','cty','cyl','year','a','b'))\n",
    "print(book2)\n",
    "book2.shape                         #It is onedimensional array of 6 tuples\"\n"
   ]
  },
  {
   "cell_type": "code",
   "execution_count": 43,
   "id": "ce9cf6c1",
   "metadata": {},
   "outputs": [
    {
     "data": {
      "text/plain": [
       "array([0, 1, 8, 4, 4])"
      ]
     },
     "execution_count": 43,
     "metadata": {},
     "output_type": "execute_result"
    }
   ],
   "source": [
    "book2['a'][0:5]"
   ]
  },
  {
   "cell_type": "code",
   "execution_count": 45,
   "id": "0a7a1e62",
   "metadata": {},
   "outputs": [
    {
     "data": {
      "text/plain": [
       "array([0, 0, 0, 0, 0, 2])"
      ]
     },
     "execution_count": 45,
     "metadata": {},
     "output_type": "execute_result"
    }
   ],
   "source": [
    "book2['a']=book2['a']/4\n",
    "book2['a']"
   ]
  },
  {
   "cell_type": "code",
   "execution_count": 50,
   "id": "c014b202",
   "metadata": {},
   "outputs": [
    {
     "data": {
      "text/plain": [
       "0"
      ]
     },
     "execution_count": 50,
     "metadata": {},
     "output_type": "execute_result"
    }
   ],
   "source": [
    "len(book2[book2['a']==49])"
   ]
  },
  {
   "cell_type": "code",
   "execution_count": null,
   "id": "61098589",
   "metadata": {},
   "outputs": [],
   "source": []
  }
 ],
 "metadata": {
  "kernelspec": {
   "display_name": "Python 3",
   "language": "python",
   "name": "python3"
  },
  "language_info": {
   "codemirror_mode": {
    "name": "ipython",
    "version": 3
   },
   "file_extension": ".py",
   "mimetype": "text/x-python",
   "name": "python",
   "nbconvert_exporter": "python",
   "pygments_lexer": "ipython3",
   "version": "3.11.8"
  }
 },
 "nbformat": 4,
 "nbformat_minor": 5
}
