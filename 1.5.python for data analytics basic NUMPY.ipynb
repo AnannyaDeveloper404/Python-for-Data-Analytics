{
  "cells": [
    {
      "cell_type": "markdown",
      "id": "19cd082c",
      "metadata": {
        "id": "19cd082c"
      },
      "source": [
        "# **NUMPY**\n",
        "\n",
        "---\n",
        "\n",
        "\n",
        "\n",
        "#### Importing Numpy"
      ]
    },
    {
      "cell_type": "code",
      "execution_count": 2,
      "id": "1ed5421e",
      "metadata": {
        "id": "1ed5421e"
      },
      "outputs": [],
      "source": [
        "import numpy as np\n",
        "import math"
      ]
    },
    {
      "cell_type": "code",
      "execution_count": 3,
      "id": "de1f4e7d",
      "metadata": {
        "colab": {
          "base_uri": "https://localhost:8080/"
        },
        "id": "de1f4e7d",
        "outputId": "23c72d0b-d4ab-4332-fa27-7ee186ded4f8"
      },
      "outputs": [
        {
          "output_type": "stream",
          "name": "stdout",
          "text": [
            "[1 2 3]\n",
            "1\n",
            "int64\n"
          ]
        }
      ],
      "source": [
        "a=np.array([1,2,3])\n",
        "print(a)\n",
        "print(a.ndim) #Dimension\n",
        "print(a.dtype) #DataType of the element"
      ]
    },
    {
      "cell_type": "code",
      "execution_count": 4,
      "id": "010f8e12",
      "metadata": {
        "colab": {
          "base_uri": "https://localhost:8080/"
        },
        "id": "010f8e12",
        "outputId": "c0c61420-b2f5-4656-8172-667f0cae4546"
      },
      "outputs": [
        {
          "output_type": "execute_result",
          "data": {
            "text/plain": [
              "(2, 3)"
            ]
          },
          "metadata": {},
          "execution_count": 4
        }
      ],
      "source": [
        "b=np.array([[1,2,3],[31,45,5]])\n",
        "b.shape #Shape of the numpy array"
      ]
    },
    {
      "cell_type": "code",
      "execution_count": 5,
      "id": "05a5151a",
      "metadata": {
        "colab": {
          "base_uri": "https://localhost:8080/"
        },
        "id": "05a5151a",
        "outputId": "94e7e1a8-9e0a-4d96-b80e-b8732edb98a0"
      },
      "outputs": [
        {
          "output_type": "execute_result",
          "data": {
            "text/plain": [
              "dtype('int64')"
            ]
          },
          "metadata": {},
          "execution_count": 5
        }
      ],
      "source": [
        "b.dtype"
      ]
    },
    {
      "cell_type": "code",
      "execution_count": 8,
      "id": "cc6d4521",
      "metadata": {
        "colab": {
          "base_uri": "https://localhost:8080/",
          "height": 36
        },
        "id": "cc6d4521",
        "outputId": "516bc859-c5df-4745-9874-b7b4d68eb6f5"
      },
      "outputs": [
        {
          "output_type": "execute_result",
          "data": {
            "text/plain": [
              "'float64'"
            ],
            "application/vnd.google.colaboratory.intrinsic+json": {
              "type": "string"
            }
          },
          "metadata": {},
          "execution_count": 8
        }
      ],
      "source": [
        "c=np.array([[2.5,3,5.9],[1.4,3.5,5]])\n",
        "c.dtype.name"
      ]
    },
    {
      "cell_type": "markdown",
      "source": [
        "- `np.random.rand()` → uniform distribution between 0 and 1.\n",
        "- `np.random.randn()` → normal distribution with mean 0 and standard deviation 1."
      ],
      "metadata": {
        "id": "G_y6XoaLHeef"
      },
      "id": "G_y6XoaLHeef"
    },
    {
      "cell_type": "markdown",
      "source": [
        "- `np.zeros(2,3)`=> Create an numpy array of dimension (2,3) filled with element=0\n",
        "- `np.ones(2,3)`=> Create an numpy array of dimension (2,3) filled with element=1\n",
        "- `np.random.rand(2,3)` => Create an numpy array of dimension (2,3) filled with random element range=(0,1)\n",
        "- `np.arange(1,12,2)` => Create an numpy array contaning consecutive element with gap 2.dim=1\n",
        "- `np.linspace(0,2,15)` =>Declares float sequence of array using LINSPACE"
      ],
      "metadata": {
        "id": "hgiIjQVt6-rP"
      },
      "id": "hgiIjQVt6-rP"
    },
    {
      "cell_type": "code",
      "execution_count": 9,
      "id": "0f0b8021",
      "metadata": {
        "colab": {
          "base_uri": "https://localhost:8080/"
        },
        "id": "0f0b8021",
        "outputId": "724b6e54-d8f6-4103-aafc-3bab6561993b"
      },
      "outputs": [
        {
          "output_type": "stream",
          "name": "stdout",
          "text": [
            "[[0. 0. 0.]\n",
            " [0. 0. 0.]]\n",
            "[[1. 1. 1.]\n",
            " [1. 1. 1.]]\n"
          ]
        }
      ],
      "source": [
        "d=np.zeros((2,3))\n",
        "e=np.ones((2,3))\n",
        "print(d)\n",
        "print(e)"
      ]
    },
    {
      "cell_type": "code",
      "execution_count": 12,
      "id": "132da05e",
      "metadata": {
        "colab": {
          "base_uri": "https://localhost:8080/"
        },
        "id": "132da05e",
        "outputId": "6a984237-0568-4c8e-fd36-627301880ba1"
      },
      "outputs": [
        {
          "output_type": "execute_result",
          "data": {
            "text/plain": [
              "array([[0.99711023, 0.39896937, 0.84880775],\n",
              "       [0.77921734, 0.14905916, 0.54616871]])"
            ]
          },
          "metadata": {},
          "execution_count": 12
        }
      ],
      "source": [
        "np.random.rand(2,3)"
      ]
    },
    {
      "cell_type": "code",
      "execution_count": null,
      "id": "bd0bf1bf",
      "metadata": {
        "id": "bd0bf1bf",
        "outputId": "62bf43cf-31f6-40dd-f972-71acf9db1b14"
      },
      "outputs": [
        {
          "data": {
            "text/plain": [
              "array([ 1,  3,  5,  7,  9, 11])"
            ]
          },
          "execution_count": 9,
          "metadata": {},
          "output_type": "execute_result"
        }
      ],
      "source": [
        "f=np.arange(1,12,2)\n",
        "f"
      ]
    },
    {
      "cell_type": "code",
      "execution_count": null,
      "id": "41cf4ce4",
      "metadata": {
        "id": "41cf4ce4",
        "outputId": "2f53cb56-1222-49b5-e4f2-5c919646e2dc"
      },
      "outputs": [
        {
          "data": {
            "text/plain": [
              "array([0.        , 0.14285714, 0.28571429, 0.42857143, 0.57142857,\n",
              "       0.71428571, 0.85714286, 1.        , 1.14285714, 1.28571429,\n",
              "       1.42857143, 1.57142857, 1.71428571, 1.85714286, 2.        ])"
            ]
          },
          "execution_count": 10,
          "metadata": {},
          "output_type": "execute_result"
        }
      ],
      "source": [
        "np.linspace(0,2,15)"
      ]
    },
    {
      "cell_type": "markdown",
      "id": "14bdf922",
      "metadata": {
        "id": "14bdf922"
      },
      "source": [
        "#### Addition,Product\n",
        "- `a+b` => Addition of two array\n",
        "- `a*b` =>Element wise product of two array\n",
        "- `a>1` => Outputs boolean array of same dim based on the condyion imposed on element (a>1)\n",
        "- `a@b` => MATRIX PRODUCT(@)"
      ]
    },
    {
      "cell_type": "code",
      "execution_count": 13,
      "id": "373c55cd",
      "metadata": {
        "colab": {
          "base_uri": "https://localhost:8080/"
        },
        "id": "373c55cd",
        "outputId": "c0be38de-5a70-45c9-82e0-b1254a0b2212"
      },
      "outputs": [
        {
          "output_type": "stream",
          "name": "stdout",
          "text": [
            "[ 6  8 10 12]\n",
            "[ 5 12 21 32]\n"
          ]
        }
      ],
      "source": [
        "a=np.array([1,2,3,4])\n",
        "b=np.array([5,6,7,8])\n",
        "print(a+b)\n",
        "print(a*b)"
      ]
    },
    {
      "cell_type": "code",
      "execution_count": 14,
      "id": "2554adf6",
      "metadata": {
        "colab": {
          "base_uri": "https://localhost:8080/"
        },
        "id": "2554adf6",
        "outputId": "e627973b-2eea-49c8-9eb4-f795da6e937d"
      },
      "outputs": [
        {
          "output_type": "execute_result",
          "data": {
            "text/plain": [
              "array([False,  True,  True,  True])"
            ]
          },
          "metadata": {},
          "execution_count": 14
        }
      ],
      "source": [
        "a>1"
      ]
    },
    {
      "cell_type": "code",
      "execution_count": 15,
      "id": "2edb6094",
      "metadata": {
        "colab": {
          "base_uri": "https://localhost:8080/"
        },
        "id": "2edb6094",
        "outputId": "f5247296-cfae-4493-be2a-57aa1733d7b9"
      },
      "outputs": [
        {
          "output_type": "execute_result",
          "data": {
            "text/plain": [
              "array([False,  True, False,  True])"
            ]
          },
          "metadata": {},
          "execution_count": 15
        }
      ],
      "source": [
        "b%2==0"
      ]
    },
    {
      "cell_type": "code",
      "execution_count": 16,
      "id": "08f3b7dc",
      "metadata": {
        "colab": {
          "base_uri": "https://localhost:8080/"
        },
        "id": "08f3b7dc",
        "outputId": "09687e52-a3d1-4322-8d0c-801f5778ab91"
      },
      "outputs": [
        {
          "output_type": "stream",
          "name": "stdout",
          "text": [
            "[[5 4]\n",
            " [3 4]]\n"
          ]
        }
      ],
      "source": [
        "c=np.array([[1,1],[0,1]])\n",
        "d=np.array([[2,0],[3,4]])\n",
        "print(c@d)"
      ]
    },
    {
      "cell_type": "code",
      "execution_count": 18,
      "id": "3979b956",
      "metadata": {
        "colab": {
          "base_uri": "https://localhost:8080/"
        },
        "id": "3979b956",
        "outputId": "bdfe1cfc-8c08-43a5-e3ac-ff73b835149b"
      },
      "outputs": [
        {
          "output_type": "stream",
          "name": "stdout",
          "text": [
            "int64\n",
            "float64\n",
            "float64\n"
          ]
        }
      ],
      "source": [
        "e=np.array([1,2,3,4])\n",
        "f=np.array([2.2,3.3,4.2,1.1])\n",
        "print(e.dtype)\n",
        "print(f.dtype)\n",
        "g=e+f\n",
        "print(g.dtype) #UPCASTING TO FLOAT"
      ]
    },
    {
      "cell_type": "markdown",
      "source": [
        "#### Different aggregate function imposing on vector"
      ],
      "metadata": {
        "id": "6SU8z70q_RhJ"
      },
      "id": "6SU8z70q_RhJ"
    },
    {
      "cell_type": "code",
      "execution_count": 19,
      "id": "b71a157b",
      "metadata": {
        "colab": {
          "base_uri": "https://localhost:8080/"
        },
        "id": "b71a157b",
        "outputId": "134796d1-a134-4839-89bd-2a5443865428"
      },
      "outputs": [
        {
          "output_type": "stream",
          "name": "stdout",
          "text": [
            "20.799999999999997\n",
            "7.2\n",
            "3.2\n",
            "5.199999999999999\n"
          ]
        }
      ],
      "source": [
        "print(g.sum())\n",
        "print(g.max())\n",
        "print(g.min())\n",
        "print(g.mean())"
      ]
    },
    {
      "cell_type": "markdown",
      "source": [
        "- `np.arange(1,17).reshape(2,8)` : Converts the 1d array into dim(2,8)"
      ],
      "metadata": {
        "id": "YDwiGyfx_vN0"
      },
      "id": "YDwiGyfx_vN0"
    },
    {
      "cell_type": "code",
      "execution_count": 20,
      "id": "29d94d75",
      "metadata": {
        "colab": {
          "base_uri": "https://localhost:8080/"
        },
        "id": "29d94d75",
        "outputId": "27bd9fc8-e4aa-4dbc-d32c-23fe6d07be29"
      },
      "outputs": [
        {
          "output_type": "execute_result",
          "data": {
            "text/plain": [
              "array([[ 1,  2,  3,  4,  5,  6,  7,  8],\n",
              "       [ 9, 10, 11, 12, 13, 14, 15, 16]])"
            ]
          },
          "metadata": {},
          "execution_count": 20
        }
      ],
      "source": [
        "h=np.arange(1,17).reshape(2,8)\n",
        "h"
      ]
    },
    {
      "cell_type": "markdown",
      "id": "f7794c54",
      "metadata": {
        "id": "f7794c54"
      },
      "source": [
        "#### INDEXING"
      ]
    },
    {
      "cell_type": "code",
      "execution_count": 26,
      "id": "859cf1ef",
      "metadata": {
        "colab": {
          "base_uri": "https://localhost:8080/"
        },
        "id": "859cf1ef",
        "outputId": "d7b5a3cd-f70e-4d07-c2b8-8d04996ae63c"
      },
      "outputs": [
        {
          "output_type": "stream",
          "name": "stdout",
          "text": [
            "[1 4 6]\n"
          ]
        }
      ],
      "source": [
        "a=np.array([[1,2,7,8],\n",
        "           [3,4,6,9],\n",
        "           [5,6,0,1]])\n",
        "b=np.array([a[0,0],a[1,1],a[2,1]])\n",
        "print(b)"
      ]
    },
    {
      "cell_type": "code",
      "execution_count": 24,
      "id": "d103868c",
      "metadata": {
        "colab": {
          "base_uri": "https://localhost:8080/"
        },
        "id": "d103868c",
        "outputId": "889b79ef-080a-48be-d074-538764023769"
      },
      "outputs": [
        {
          "output_type": "stream",
          "name": "stdout",
          "text": [
            "[1 4 6]\n"
          ]
        }
      ],
      "source": [
        "b=np.array(a[[0,1,2],[0,1,1]])#zipping\n",
        "print(b)"
      ]
    },
    {
      "cell_type": "code",
      "execution_count": 25,
      "id": "3085e37a",
      "metadata": {
        "colab": {
          "base_uri": "https://localhost:8080/"
        },
        "id": "3085e37a",
        "outputId": "434a252c-68bf-46d5-fe69-f928fbef3379"
      },
      "outputs": [
        {
          "output_type": "stream",
          "name": "stdout",
          "text": [
            "[7 8 6 9 6]\n"
          ]
        }
      ],
      "source": [
        "print(a[a>5])"
      ]
    },
    {
      "cell_type": "markdown",
      "source": [
        "- `a[:2]` selects rows from index 0 to 1 (i.e., rows 0 and 1):\n",
        "- `a[:2,1:]` selects rows from index 0 to 1 and column from 1  to end\n",
        "- remember that slicing in array is view of the same data, so change in value cause the change in value in the original array"
      ],
      "metadata": {
        "id": "AFgDCuzjEcXD"
      },
      "id": "AFgDCuzjEcXD"
    },
    {
      "cell_type": "code",
      "execution_count": 27,
      "id": "ff831caa",
      "metadata": {
        "colab": {
          "base_uri": "https://localhost:8080/"
        },
        "id": "ff831caa",
        "outputId": "3eb9beab-43e1-4f25-fce9-fd48f0901515"
      },
      "outputs": [
        {
          "output_type": "stream",
          "name": "stdout",
          "text": [
            "[[1 2 7 8]]\n",
            "[[2 7 8]\n",
            " [4 6 9]]\n"
          ]
        }
      ],
      "source": [
        "print(a[:1])\n",
        "print(a[:2,1:])"
      ]
    },
    {
      "cell_type": "code",
      "execution_count": null,
      "id": "5ec728bd",
      "metadata": {
        "id": "5ec728bd",
        "outputId": "c2f71fc6-4dc2-442c-9d91-25f328ffd3b8"
      },
      "outputs": [
        {
          "name": "stdout",
          "output_type": "stream",
          "text": [
            "before changing [[2]\n",
            " [4]]\n",
            "after changing [[50]\n",
            " [ 4]]\n",
            "[[ 1 50  7  8]\n",
            " [ 3  4  6  9]\n",
            " [ 5  6  0  1]]\n"
          ]
        }
      ],
      "source": [
        "#remember that slicing in array is view of the same data\n",
        "# so change in value cause the change in value in the original array\n",
        "b=a[:2,1:2]\n",
        "print('before changing',b)\n",
        "b[0,0]=50\n",
        "print('after changing',b)\n",
        "print(a)"
      ]
    },
    {
      "cell_type": "code",
      "execution_count": null,
      "id": "bdea519a",
      "metadata": {
        "id": "bdea519a",
        "outputId": "4f381e69-3458-497d-ae18-280c679b8b3f"
      },
      "outputs": [
        {
          "data": {
            "text/plain": [
              "array([[1.000e+00, 2.000e+01, 6.000e+00, 2.008e+03, 0.000e+00, 1.000e+00],\n",
              "       [2.000e+00, 3.000e+01, 8.000e+00, 2.007e+03, 1.000e+00, 0.000e+00],\n",
              "       [3.000e+00, 3.200e+01, 7.000e+00, 2.008e+03, 8.000e+00, 9.000e+00],\n",
              "       [4.000e+00, 4.000e+00, 1.000e+00, 2.009e+03, 4.000e+00, 5.000e+00],\n",
              "       [5.000e+00, 1.500e+01, 9.000e+00, 2.008e+03, 4.000e+00, 6.000e+00],\n",
              "       [6.000e+00, 4.500e+01, 2.000e+01, 2.004e+03, 4.500e+01, 6.000e+00]])"
            ]
          },
          "execution_count": 29,
          "metadata": {},
          "output_type": "execute_result"
        }
      ],
      "source": [
        "book=np.genfromtxt('Book1.csv',skip_header=1,delimiter=',')\n",
        "book"
      ]
    },
    {
      "cell_type": "code",
      "execution_count": null,
      "id": "f0989892",
      "metadata": {
        "id": "f0989892",
        "outputId": "9afd8fd8-e99a-42fc-ff38-69d44547edff"
      },
      "outputs": [
        {
          "name": "stdout",
          "output_type": "stream",
          "text": [
            "[1. 2. 3. 4. 5. 6.]\n",
            "[[1.]\n",
            " [2.]\n",
            " [3.]\n",
            " [4.]\n",
            " [5.]\n",
            " [6.]]\n"
          ]
        }
      ],
      "source": [
        "print(book[:,0])\n",
        "print(book[:,0:1])               #**DIFFERENCE**"
      ]
    },
    {
      "cell_type": "markdown",
      "source": [
        "`book[:,[1,3,4]]` : It selects all the row and 1,3,4 col"
      ],
      "metadata": {
        "id": "XwIEQ79BFe3b"
      },
      "id": "XwIEQ79BFe3b"
    },
    {
      "cell_type": "code",
      "execution_count": null,
      "id": "adc0d7e7",
      "metadata": {
        "id": "adc0d7e7",
        "outputId": "5f4a6f51-73b6-4879-d528-9f9ef1a997df"
      },
      "outputs": [
        {
          "name": "stdout",
          "output_type": "stream",
          "text": [
            "[[2.000e+01 2.008e+03 0.000e+00]\n",
            " [3.000e+01 2.007e+03 1.000e+00]\n",
            " [3.200e+01 2.008e+03 8.000e+00]\n",
            " [4.000e+00 2.009e+03 4.000e+00]\n",
            " [1.500e+01 2.008e+03 4.000e+00]\n",
            " [4.500e+01 2.004e+03 4.500e+01]]\n"
          ]
        }
      ],
      "source": [
        "print(book[:,[1,3,4]])            #nonconsecutive column"
      ]
    },
    {
      "cell_type": "code",
      "execution_count": null,
      "id": "84d5a631",
      "metadata": {
        "id": "84d5a631",
        "outputId": "e3c4e43b-bd1e-4517-e6ea-6eefe3e95d0d"
      },
      "outputs": [
        {
          "name": "stdout",
          "output_type": "stream",
          "text": [
            "4.5\n"
          ]
        }
      ],
      "source": [
        "print(book[:,-1].mean())    #SELECTING THE LAST COLUMN"
      ]
    },
    {
      "cell_type": "markdown",
      "id": "36ac7083",
      "metadata": {
        "id": "36ac7083"
      },
      "source": [
        "#### Converting two dimensional list to onedimesional list which contains tuples"
      ]
    },
    {
      "cell_type": "code",
      "execution_count": null,
      "id": "030ed23e",
      "metadata": {
        "id": "030ed23e",
        "outputId": "2821c1c8-2906-4d15-b1a7-4e028298d45a"
      },
      "outputs": [
        {
          "name": "stdout",
          "output_type": "stream",
          "text": [
            "[(1, 20,  6, 2008,  0, 1) (2, 30,  8, 2007,  1, 0)\n",
            " (3, 32,  7, 2008,  8, 9) (4,  4,  1, 2009,  4, 5)\n",
            " (5, 15,  9, 2008,  4, 6) (6, 45, 20, 2004, 45, 6)]\n"
          ]
        },
        {
          "data": {
            "text/plain": [
              "(6,)"
            ]
          },
          "execution_count": 39,
          "metadata": {},
          "output_type": "execute_result"
        }
      ],
      "source": [
        "book2=np.genfromtxt('Book1.csv',dtype=None,delimiter=',',skip_header=1,\n",
        "                    names=('entries','cty','cyl','year','a','b'))\n",
        "print(book2)\n",
        "book2.shape                         #It is onedimensional array of 6 tuples\"\n"
      ]
    },
    {
      "cell_type": "code",
      "execution_count": null,
      "id": "ce9cf6c1",
      "metadata": {
        "id": "ce9cf6c1",
        "outputId": "960c0039-a54d-4741-870f-d97120eb18fe"
      },
      "outputs": [
        {
          "data": {
            "text/plain": [
              "array([0, 1, 8, 4, 4])"
            ]
          },
          "execution_count": 43,
          "metadata": {},
          "output_type": "execute_result"
        }
      ],
      "source": [
        "book2['a'][0:5]"
      ]
    },
    {
      "cell_type": "code",
      "execution_count": null,
      "id": "0a7a1e62",
      "metadata": {
        "id": "0a7a1e62",
        "outputId": "c8794e9e-3470-464f-af92-8faa60341c01"
      },
      "outputs": [
        {
          "data": {
            "text/plain": [
              "array([0, 0, 0, 0, 0, 2])"
            ]
          },
          "execution_count": 45,
          "metadata": {},
          "output_type": "execute_result"
        }
      ],
      "source": [
        "book2['a']=book2['a']/4\n",
        "book2['a']"
      ]
    },
    {
      "cell_type": "code",
      "execution_count": null,
      "id": "c014b202",
      "metadata": {
        "id": "c014b202",
        "outputId": "d0e55496-6a3c-4fcc-9043-b4ea436b2e12"
      },
      "outputs": [
        {
          "data": {
            "text/plain": [
              "0"
            ]
          },
          "execution_count": 50,
          "metadata": {},
          "output_type": "execute_result"
        }
      ],
      "source": [
        "len(book2[book2['a']==49])"
      ]
    },
    {
      "cell_type": "code",
      "execution_count": 28,
      "id": "61098589",
      "metadata": {
        "id": "61098589"
      },
      "outputs": [],
      "source": [
        "arr1 = np.array([[1, 2, 3], [3, 4, 5]])\n",
        "arr2 = np.array([[2, 2, 3], [1, 2, 5]])"
      ]
    },
    {
      "cell_type": "code",
      "source": [
        "arr1 == arr2"
      ],
      "metadata": {
        "id": "9K6dvNP4GzMw",
        "outputId": "8ef470b8-4b04-42a9-e91d-39ac7684f57d",
        "colab": {
          "base_uri": "https://localhost:8080/"
        }
      },
      "id": "9K6dvNP4GzMw",
      "execution_count": 29,
      "outputs": [
        {
          "output_type": "execute_result",
          "data": {
            "text/plain": [
              "array([[False,  True,  True],\n",
              "       [False, False,  True]])"
            ]
          },
          "metadata": {},
          "execution_count": 29
        }
      ]
    }
  ],
  "metadata": {
    "kernelspec": {
      "display_name": "Python 3 (ipykernel)",
      "language": "python",
      "name": "python3"
    },
    "language_info": {
      "codemirror_mode": {
        "name": "ipython",
        "version": 3
      },
      "file_extension": ".py",
      "mimetype": "text/x-python",
      "name": "python",
      "nbconvert_exporter": "python",
      "pygments_lexer": "ipython3",
      "version": "3.11.3"
    },
    "colab": {
      "provenance": []
    }
  },
  "nbformat": 4,
  "nbformat_minor": 5
}