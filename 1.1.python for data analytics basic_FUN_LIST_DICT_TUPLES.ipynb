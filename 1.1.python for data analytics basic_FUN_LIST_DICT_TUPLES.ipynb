{
 "cells": [
  {
   "cell_type": "markdown",
   "id": "fbfcf76b",
   "metadata": {},
   "source": [
    "# Python\n",
    "\n",
    "#### 1.Python Indentation\n",
    "Indentation refers to the spaces at the beginning of a code line.\n",
    "\n",
    "Where in other programming languages the indentation in code is for readability only, the indentation in Python is very important.\n",
    "#### 2.print()\n",
    "Print Texts inside of it.\n",
    "\n",
    "#### 3.Variables in Python:\n",
    "```python\n",
    "x = 5\n",
    "y = \"Hello, World!\"\n",
    "```\n"
   ]
  },
  {
   "cell_type": "code",
   "execution_count": 8,
   "id": "4e38a411",
   "metadata": {},
   "outputs": [
    {
     "name": "stdout",
     "output_type": "stream",
     "text": [
      "Orange\n",
      "Banana\n",
      "Cherry\n",
      "Orange\n",
      "Orange\n",
      "Orange\n",
      "apple\n",
      "banana\n",
      "cherry\n"
     ]
    }
   ],
   "source": [
    "#Many Values to Multiple Variables\n",
    "x, y, z = \"Orange\", \"Banana\", \"Cherry\"\n",
    "print(x)\n",
    "print(y)\n",
    "print(z)\n",
    "\n",
    "x = y = z = \"Orange\"\n",
    "print(x)\n",
    "print(y)\n",
    "print(z)\n",
    "\n",
    "fruits = [\"apple\", \"banana\", \"cherry\"]\n",
    "x, y, z = fruits\n",
    "print(x)\n",
    "print(y)\n",
    "print(z)\n"
   ]
  },
  {
   "cell_type": "markdown",
   "id": "b0ee9219",
   "metadata": {},
   "source": [
    "- In the print() function, when you try to combine a string and a number with the + operator, Python will give you an error:"
   ]
  },
  {
   "cell_type": "code",
   "execution_count": 11,
   "id": "93eea830",
   "metadata": {},
   "outputs": [
    {
     "name": "stdout",
     "output_type": "stream",
     "text": [
      "5 John\n"
     ]
    }
   ],
   "source": [
    "x = 5\n",
    "y = \" John\"\n",
    "# print(x + y) error\n",
    "print(str(x) + y)"
   ]
  },
  {
   "cell_type": "markdown",
   "id": "b978dffc",
   "metadata": {},
   "source": [
    "#### Global Variables\n",
    "Variables that are created outside of a function (as in all of the examples in the previous pages) are known as global variables."
   ]
  },
  {
   "cell_type": "code",
   "execution_count": 12,
   "id": "32f169ad",
   "metadata": {},
   "outputs": [
    {
     "name": "stdout",
     "output_type": "stream",
     "text": [
      "Python is awesome\n"
     ]
    }
   ],
   "source": [
    "x = \"awesome\"\n",
    "\n",
    "def myfunc():\n",
    "  print(\"Python is \" + x)\n",
    "\n",
    "myfunc()"
   ]
  },
  {
   "cell_type": "code",
   "execution_count": 4,
   "id": "8b14b8a4",
   "metadata": {},
   "outputs": [
    {
     "name": "stdout",
     "output_type": "stream",
     "text": [
      "Hello, World!\n"
     ]
    }
   ],
   "source": [
    "print(\"Hello, World!\")"
   ]
  },
  {
   "cell_type": "markdown",
   "id": "7274088c",
   "metadata": {},
   "source": [
    "#### 4.Built-in Data Types\n",
    "Text Type:|\tstr\n",
    "---|---\n",
    "Numeric Types:|\tint, float, complex\n",
    "Sequence Types:|\tlist, tuple, range\n",
    "Mapping Type:|\tdict\n",
    "Set Types:|\tset, frozenset\n",
    "Boolean Type:|\tbool\n",
    "Binary Types:|\tbytes, bytearray, memoryview\n",
    "None Type:|\tNoneType\n",
    "\n",
    "\n",
    "Example|Data Type\t\n",
    "---|---\n",
    "x = \"Hello World\"|\tstr\t\n",
    "x = 20\t|int\t\n",
    "x = 20.5\t|float\t\n",
    "x = 1j\t|complex\t\n",
    "x = [\"apple\", \"banana\", \"cherry\"]\t|list\t\n",
    "x = (\"apple\", \"banana\", \"cherry\")\t|tuple\t\n",
    "x = range(6)\t|range\t\n",
    "x = {\"name\" : \"John\", \"age\" : 36}\t|dict\t\n",
    "x = {\"apple\", \"banana\", \"cherry\"}\t|set\t\n",
    "x = frozenset({\"apple\", \"banana\", \"cherry\"})\t|frozenset\t\n",
    "x = True\t|bool\t\n",
    "x = b\"Hello\"\t|bytes\t\n",
    "x = bytearray(5)\t|bytearray\t\n",
    "x = memoryview(bytes(5))\t|memoryview\t\n",
    "x = None\t|NoneType"
   ]
  },
  {
   "cell_type": "markdown",
   "id": "6e28a425",
   "metadata": {},
   "source": [
    "#### 4.Casting\n",
    "If you want to specify the data type of a variable, this can be done with casting."
   ]
  },
  {
   "cell_type": "code",
   "execution_count": 5,
   "id": "61b29043",
   "metadata": {},
   "outputs": [],
   "source": [
    "x = str(3)    # x will be '3'\n",
    "y = int(3)    # y will be 3"
   ]
  },
  {
   "cell_type": "markdown",
   "id": "86da7490",
   "metadata": {},
   "source": [
    "#### Get the Type\n",
    "You can get the data type of a variable with the `type()` function."
   ]
  },
  {
   "cell_type": "code",
   "execution_count": 6,
   "id": "252fa51d",
   "metadata": {},
   "outputs": [
    {
     "name": "stdout",
     "output_type": "stream",
     "text": [
      "<class 'int'>\n",
      "<class 'str'>\n"
     ]
    }
   ],
   "source": [
    "x = 5\n",
    "y = \"John\"\n",
    "print(type(x))\n",
    "print(type(y))"
   ]
  },
  {
   "cell_type": "code",
   "execution_count": 1,
   "id": "351c3762",
   "metadata": {},
   "outputs": [
    {
     "name": "stdout",
     "output_type": "stream",
     "text": [
      "0\n"
     ]
    }
   ],
   "source": [
    "#Function\n",
    "#s is a default parameter\n",
    "def sum(a,b,s=9):\n",
    "    if(s==1):\n",
    "        return a+b\n",
    "    else:\n",
    "        return 0\n",
    "print(sum(3,4))"
   ]
  },
  {
   "cell_type": "code",
   "execution_count": 2,
   "id": "fe899416",
   "metadata": {},
   "outputs": [
    {
     "data": {
      "text/plain": [
       "12"
      ]
     },
     "execution_count": 2,
     "metadata": {},
     "output_type": "execute_result"
    }
   ],
   "source": [
    "#assigning function to variable\n",
    "def pro(a,b):\n",
    "    return a*b\n",
    "x=pro\n",
    "x(3,4)"
   ]
  },
  {
   "cell_type": "markdown",
   "id": "328e6b1f",
   "metadata": {},
   "source": [
    "#\n",
    "**TUPLES,DICTIONARIES,LISTS**"
   ]
  },
  {
   "cell_type": "code",
   "execution_count": 3,
   "id": "f239169a",
   "metadata": {},
   "outputs": [
    {
     "data": {
      "text/plain": [
       "tuple"
      ]
     },
     "execution_count": 3,
     "metadata": {},
     "output_type": "execute_result"
    }
   ],
   "source": [
    "#Tuples are immutatble ,list are mutable\n",
    "x=(1,'a',2,'3')\n",
    "type(x)"
   ]
  },
  {
   "cell_type": "code",
   "execution_count": 22,
   "id": "3bcd58e8",
   "metadata": {},
   "outputs": [
    {
     "data": {
      "text/plain": [
       "list"
      ]
     },
     "execution_count": 22,
     "metadata": {},
     "output_type": "execute_result"
    }
   ],
   "source": [
    "x=[1,'a',2,'3']\n",
    "type(x)"
   ]
  },
  {
   "cell_type": "markdown",
   "id": "4aa968d2",
   "metadata": {},
   "source": [
    "#\n",
    "**lists** **operation**\n"
   ]
  },
  {
   "cell_type": "code",
   "execution_count": 23,
   "id": "dd6dc179",
   "metadata": {},
   "outputs": [
    {
     "name": "stdout",
     "output_type": "stream",
     "text": [
      "Append:\n",
      "[1, 'a', 2, '3', 3.3]\n",
      "print each element separated:\n",
      "1\n",
      "a\n",
      "2\n",
      "3\n",
      "3.3\n",
      "concatenate:\n",
      "[1, 2, 3, 'l']\n",
      "repeat appending same element:\n",
      "[1, 1, 1]\n"
     ]
    }
   ],
   "source": [
    "#Append\n",
    "print(\"Append:\")\n",
    "x.append(3.3)\n",
    "print(x)\n",
    "#print each element separated\n",
    "print(\"print each element separated:\")\n",
    "for item in x:\n",
    "    print(item)\n",
    "#concatenate\n",
    "print(\"concatenate:\")\n",
    "print([1,2]+[3,'l'])\n",
    "#repeat appending same element\n",
    "print(\"repeat appending same element:\")\n",
    "print([1] * 3)"
   ]
  },
  {
   "cell_type": "code",
   "execution_count": 24,
   "id": "84445a13",
   "metadata": {},
   "outputs": [
    {
     "name": "stdout",
     "output_type": "stream",
     "text": [
      "in OPERATOR IN LIST returns true or false (boolean value):\n",
      "True\n"
     ]
    }
   ],
   "source": [
    "#in OPERATOR IN LIST returns true or false (boolean value)\n",
    "print(\"in OPERATOR IN LIST returns true or false (boolean value):\")\n",
    "print(1 in [1,2,4])"
   ]
  },
  {
   "cell_type": "code",
   "execution_count": 25,
   "id": "6b152a86",
   "metadata": {},
   "outputs": [
    {
     "name": "stdout",
     "output_type": "stream",
     "text": [
      "h\n",
      "el\n",
      "hel\n",
      "lo\n",
      "o\n",
      "el\n"
     ]
    }
   ],
   "source": [
    "#ALL STRING ARE LIST OF CHARACTERS SO SLICE WORKS FINE IN STRINGS:\n",
    "s=\"hello\"\n",
    "print(s[0])\n",
    "print(s[1:3])\n",
    "print(s[:3])\n",
    "print(s[3:])\n",
    "print(s[-1])\n",
    "print(s[-4:-2])"
   ]
  },
  {
   "cell_type": "code",
   "execution_count": 26,
   "id": "dc9479f3",
   "metadata": {},
   "outputs": [
    {
     "name": "stdout",
     "output_type": "stream",
     "text": [
      "Anannya Maitra\n",
      "AnannyaAnannyaAnannya\n"
     ]
    }
   ],
   "source": [
    "fname=\"Anannya\"\n",
    "lname=' Maitra'\n",
    "fullname=fname+lname\n",
    "print(fullname)\n",
    "print(fname*3)"
   ]
  },
  {
   "cell_type": "code",
   "execution_count": 27,
   "id": "d5fee919",
   "metadata": {},
   "outputs": [
    {
     "name": "stdout",
     "output_type": "stream",
     "text": [
      "Anannya Maitra\n"
     ]
    }
   ],
   "source": [
    "sentence='Anannya has a last name Maitra'\n",
    "print(sentence.split(' ')[0]+' '+sentence.split(' ')[-1])"
   ]
  },
  {
   "cell_type": "markdown",
   "id": "0bdfb8f5",
   "metadata": {},
   "source": [
    "#\n",
    "**DICTIONARIES:** \n",
    "DICTIONARIES ARE LIKE HASHMAP"
   ]
  },
  {
   "cell_type": "code",
   "execution_count": 28,
   "id": "d93cd12e",
   "metadata": {},
   "outputs": [
    {
     "name": "stdout",
     "output_type": "stream",
     "text": [
      "None\n"
     ]
    }
   ],
   "source": [
    "x={'Anannya':22,'Jack':3,'Simba':'4','Diya':'25'}\n",
    "x['Anannya']\n",
    "x['Jack']\n",
    "x['Raima']=None\n",
    "print(x['Raima'])"
   ]
  },
  {
   "cell_type": "code",
   "execution_count": 29,
   "id": "cd2502d4",
   "metadata": {},
   "outputs": [
    {
     "name": "stdout",
     "output_type": "stream",
     "text": [
      "22\n",
      "3\n",
      "4\n",
      "25\n",
      "None\n",
      "Anannya\n",
      "Jack\n",
      "Simba\n",
      "Diya\n",
      "Raima\n"
     ]
    }
   ],
   "source": [
    "for name in x:\n",
    "    print(x[name])\n",
    "for name in x:\n",
    "    print(name)    "
   ]
  },
  {
   "cell_type": "code",
   "execution_count": 30,
   "id": "72a95185",
   "metadata": {},
   "outputs": [
    {
     "name": "stdout",
     "output_type": "stream",
     "text": [
      "22\n",
      "3\n",
      "4\n",
      "25\n",
      "None\n"
     ]
    }
   ],
   "source": [
    "for title in x.values():\n",
    "    print(title)"
   ]
  },
  {
   "cell_type": "code",
   "execution_count": 31,
   "id": "ac119270",
   "metadata": {},
   "outputs": [
    {
     "name": "stdout",
     "output_type": "stream",
     "text": [
      "Anannya\n",
      "22\n",
      "Jack\n",
      "3\n",
      "Simba\n",
      "4\n",
      "Diya\n",
      "25\n",
      "Raima\n",
      "None\n"
     ]
    }
   ],
   "source": [
    "for name,title in x.items():\n",
    "    print(name)\n",
    "    print(title)"
   ]
  },
  {
   "cell_type": "markdown",
   "id": "99ae2040",
   "metadata": {},
   "source": [
    "#\n",
    "**TUPLES**"
   ]
  },
  {
   "cell_type": "code",
   "execution_count": 32,
   "id": "3d44ac2e",
   "metadata": {},
   "outputs": [],
   "source": [
    "x=('Anannya','Maitra',22)\n",
    "fname,lname,age=x"
   ]
  },
  {
   "cell_type": "code",
   "execution_count": 33,
   "id": "00e9976f",
   "metadata": {},
   "outputs": [
    {
     "data": {
      "text/plain": [
       "'Anannya'"
      ]
     },
     "execution_count": 33,
     "metadata": {},
     "output_type": "execute_result"
    }
   ],
   "source": [
    "fname"
   ]
  },
  {
   "cell_type": "code",
   "execution_count": 34,
   "id": "ab0b163f",
   "metadata": {},
   "outputs": [
    {
     "data": {
      "text/plain": [
       "22"
      ]
     },
     "execution_count": 34,
     "metadata": {},
     "output_type": "execute_result"
    }
   ],
   "source": [
    "age"
   ]
  },
  {
   "cell_type": "markdown",
   "id": "daa62c36",
   "metadata": {},
   "source": [
    "#\n",
    "HOW TO PRINT **STRING** ALONG WITH **INTEGER** "
   ]
  },
  {
   "cell_type": "code",
   "execution_count": 35,
   "id": "b3ff317f",
   "metadata": {},
   "outputs": [],
   "source": [
    "y={'fname':'Anannya','lname':'Maitra','age':22}"
   ]
  },
  {
   "cell_type": "code",
   "execution_count": 36,
   "id": "aac626e7",
   "metadata": {},
   "outputs": [
    {
     "name": "stdout",
     "output_type": "stream",
     "text": [
      "Anannya has a last name Maitra and she is 22 years old\n"
     ]
    }
   ],
   "source": [
    "statement=\"{} has a last name {} and she is {} years old\"\n",
    "print(statement.format(y['fname'],y['lname'],y['age']))"
   ]
  }
 ],
 "metadata": {
  "kernelspec": {
   "display_name": "Python 3",
   "language": "python",
   "name": "python3"
  },
  "language_info": {
   "codemirror_mode": {
    "name": "ipython",
    "version": 3
   },
   "file_extension": ".py",
   "mimetype": "text/x-python",
   "name": "python",
   "nbconvert_exporter": "python",
   "pygments_lexer": "ipython3",
   "version": "3.11.8"
  }
 },
 "nbformat": 4,
 "nbformat_minor": 5
}
