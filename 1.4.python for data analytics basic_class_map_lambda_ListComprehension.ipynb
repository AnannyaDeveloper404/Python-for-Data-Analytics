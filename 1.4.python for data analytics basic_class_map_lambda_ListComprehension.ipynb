{
 "cells": [
  {
   "cell_type": "markdown",
   "id": "fd1d9af2",
   "metadata": {},
   "source": [
    "# class"
   ]
  },
  {
   "cell_type": "code",
   "execution_count": 1,
   "id": "3f27d86e",
   "metadata": {},
   "outputs": [],
   "source": [
    "class Person:\n",
    "    department='information'\n",
    "    def def_name(self,new_name):\n",
    "        self.name=new_name\n",
    "    def def_location(self,new_location):\n",
    "        self.location=new_location"
   ]
  },
  {
   "cell_type": "code",
   "execution_count": 2,
   "id": "b2646ae2",
   "metadata": {},
   "outputs": [
    {
     "name": "stdout",
     "output_type": "stream",
     "text": [
      "Anannya Maitra lives in India\n"
     ]
    }
   ],
   "source": [
    "person=Person()\n",
    "person.def_name('Anannya Maitra')\n",
    "person.def_location('India')\n",
    "print('{} lives in {}'.format(person.name,person.location))"
   ]
  },
  {
   "cell_type": "markdown",
   "id": "a275a3ce",
   "metadata": {},
   "source": [
    "#\n",
    "# MAP\n"
   ]
  },
  {
   "cell_type": "code",
   "execution_count": 3,
   "id": "a8e74b73",
   "metadata": {},
   "outputs": [
    {
     "data": {
      "text/plain": [
       "<map at 0x1b341dbec50>"
      ]
     },
     "execution_count": 3,
     "metadata": {},
     "output_type": "execute_result"
    }
   ],
   "source": [
    "store1=[10,20,30,40]\n",
    "store2=[9,11,12,54]\n",
    "cheapest=map(min,store1,store2)\n",
    "cheapest"
   ]
  },
  {
   "cell_type": "markdown",
   "id": "476b7d30",
   "metadata": {},
   "source": [
    "### why MAP is called lazy evaluation\n",
    "because map returns reference value"
   ]
  },
  {
   "cell_type": "markdown",
   "id": "48c28020",
   "metadata": {},
   "source": [
    "# LAMBDA\n",
    "lambda doesn't allow any kind of default parameters like in fully written function "
   ]
  },
  {
   "cell_type": "code",
   "execution_count": 4,
   "id": "f659006c",
   "metadata": {},
   "outputs": [
    {
     "data": {
      "text/plain": [
       "7"
      ]
     },
     "execution_count": 4,
     "metadata": {},
     "output_type": "execute_result"
    }
   ],
   "source": [
    "my_function=lambda a,b,c:a+b\n",
    "x=my_function(3,4,50)\n",
    "x"
   ]
  },
  {
   "cell_type": "code",
   "execution_count": null,
   "id": "747e185c",
   "metadata": {},
   "outputs": [],
   "source": []
  }
 ],
 "metadata": {
  "kernelspec": {
   "display_name": "Python 3 (ipykernel)",
   "language": "python",
   "name": "python3"
  },
  "language_info": {
   "codemirror_mode": {
    "name": "ipython",
    "version": 3
   },
   "file_extension": ".py",
   "mimetype": "text/x-python",
   "name": "python",
   "nbconvert_exporter": "python",
   "pygments_lexer": "ipython3",
   "version": "3.11.3"
  }
 },
 "nbformat": 4,
 "nbformat_minor": 5
}
