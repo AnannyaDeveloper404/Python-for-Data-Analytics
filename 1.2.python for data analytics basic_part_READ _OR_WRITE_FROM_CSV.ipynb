{
 "cells": [
  {
   "cell_type": "markdown",
   "id": "60dc199a",
   "metadata": {},
   "source": [
    "# DATA FILES AND STATISTICS"
   ]
  },
  {
   "cell_type": "code",
   "execution_count": 16,
   "id": "88843c92",
   "metadata": {},
   "outputs": [
    {
     "data": {
      "text/plain": [
       "[{'entries': '1', 'cty': '20', 'cyl': '6', 'year': '2008'},\n",
       " {'entries': '2', 'cty': '30', 'cyl': '8', 'year': '2007'},\n",
       " {'entries': '3', 'cty': '32', 'cyl': '7', 'year': '2008'}]"
      ]
     },
     "execution_count": 16,
     "metadata": {},
     "output_type": "execute_result"
    }
   ],
   "source": [
    "import csv\n",
    "%precision 2\n",
    "with open('Book1.csv') as csvfile:\n",
    "    sdc=list(csv.DictReader(csvfile))\n",
    "sdc[:3]    "
   ]
  },
  {
   "cell_type": "code",
   "execution_count": 17,
   "id": "3cc3a801",
   "metadata": {},
   "outputs": [
    {
     "data": {
      "text/plain": [
       "6"
      ]
     },
     "execution_count": 17,
     "metadata": {},
     "output_type": "execute_result"
    }
   ],
   "source": [
    "len(sdc)"
   ]
  },
  {
   "cell_type": "code",
   "execution_count": 18,
   "id": "680d621a",
   "metadata": {},
   "outputs": [
    {
     "data": {
      "text/plain": [
       "dict_keys(['entries', 'cty', 'cyl', 'year'])"
      ]
     },
     "execution_count": 18,
     "metadata": {},
     "output_type": "execute_result"
    }
   ],
   "source": [
    "sdc[0].keys()"
   ]
  },
  {
   "cell_type": "code",
   "execution_count": 19,
   "id": "ea65ae56",
   "metadata": {},
   "outputs": [
    {
     "data": {
      "text/plain": [
       "146.00"
      ]
     },
     "execution_count": 19,
     "metadata": {},
     "output_type": "execute_result"
    }
   ],
   "source": [
    "sum(float(d['cty'])for d in sdc)"
   ]
  },
  {
   "cell_type": "code",
   "execution_count": 20,
   "id": "a96c2d3f",
   "metadata": {},
   "outputs": [
    {
     "data": {
      "text/plain": [
       "{'2004', '2007', '2008', '2009'}"
      ]
     },
     "execution_count": 20,
     "metadata": {},
     "output_type": "execute_result"
    }
   ],
   "source": [
    "A=set(d['year'] for d in sdc)\n",
    "A"
   ]
  },
  {
   "cell_type": "code",
   "execution_count": 21,
   "id": "0f3bb7f5",
   "metadata": {},
   "outputs": [
    {
     "data": {
      "text/plain": [
       "{'1', '20', '6', '7', '8', '9'}"
      ]
     },
     "execution_count": 21,
     "metadata": {},
     "output_type": "execute_result"
    }
   ],
   "source": [
    "cylinderList=set(d['cyl'] for d in sdc)\n",
    "cylinderList"
   ]
  },
  {
   "cell_type": "code",
   "execution_count": null,
   "id": "ac066a27",
   "metadata": {},
   "outputs": [],
   "source": []
  }
 ],
 "metadata": {
  "kernelspec": {
   "display_name": "Python 3 (ipykernel)",
   "language": "python",
   "name": "python3"
  },
  "language_info": {
   "codemirror_mode": {
    "name": "ipython",
    "version": 3
   },
   "file_extension": ".py",
   "mimetype": "text/x-python",
   "name": "python",
   "nbconvert_exporter": "python",
   "pygments_lexer": "ipython3",
   "version": "3.11.3"
  }
 },
 "nbformat": 4,
 "nbformat_minor": 5
}
