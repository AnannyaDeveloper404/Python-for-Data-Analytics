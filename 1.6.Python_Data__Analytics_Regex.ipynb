{
  "nbformat": 4,
  "nbformat_minor": 0,
  "metadata": {
    "colab": {
      "provenance": []
    },
    "kernelspec": {
      "name": "python3",
      "display_name": "Python 3"
    },
    "language_info": {
      "name": "python"
    }
  },
  "cells": [
    {
      "cell_type": "code",
      "execution_count": 1,
      "metadata": {
        "id": "dc45GvFDninY"
      },
      "outputs": [],
      "source": [
        "import re"
      ]
    },
    {
      "cell_type": "code",
      "source": [
        "str=\"This is a  good day\"\n",
        "if(re.search(\"good\",str) and not(re.search(\"not\",str))):\n",
        "  print(\"wonderful\")\n",
        "else:\n",
        "  print(\"Alas\")"
      ],
      "metadata": {
        "colab": {
          "base_uri": "https://localhost:8080/"
        },
        "id": "mkA6uAJwnu3X",
        "outputId": "2f1d0ae4-6642-401b-ca33-b62e1371582d"
      },
      "execution_count": 2,
      "outputs": [
        {
          "output_type": "stream",
          "name": "stdout",
          "text": [
            "wonderful\n"
          ]
        }
      ]
    },
    {
      "cell_type": "code",
      "source": [
        "text=\"Anannya is a good girl, Anannya is studying ,and Anannya's borthday is today\"\n",
        "re.split(\" \",text)"
      ],
      "metadata": {
        "colab": {
          "base_uri": "https://localhost:8080/"
        },
        "id": "_UjV4JAIn-N4",
        "outputId": "0fcdc1ae-045e-412b-fad1-771d466c9668"
      },
      "execution_count": 3,
      "outputs": [
        {
          "output_type": "execute_result",
          "data": {
            "text/plain": [
              "['Anannya',\n",
              " 'is',\n",
              " 'a',\n",
              " 'good',\n",
              " 'girl,',\n",
              " 'Anannya',\n",
              " 'is',\n",
              " 'studying',\n",
              " ',and',\n",
              " \"Anannya's\",\n",
              " 'borthday',\n",
              " 'is',\n",
              " 'today']"
            ]
          },
          "metadata": {},
          "execution_count": 3
        }
      ]
    },
    {
      "cell_type": "code",
      "source": [
        "re.findall('Anannya',text)"
      ],
      "metadata": {
        "colab": {
          "base_uri": "https://localhost:8080/"
        },
        "id": "gGf4xYOapa0H",
        "outputId": "0811f708-1df9-4e56-d3e7-19f9cd4835dc"
      },
      "execution_count": 4,
      "outputs": [
        {
          "output_type": "execute_result",
          "data": {
            "text/plain": [
              "['Anannya', 'Anannya', 'Anannya']"
            ]
          },
          "metadata": {},
          "execution_count": 4
        }
      ]
    },
    {
      "cell_type": "code",
      "source": [
        "re.search(\"^Ana\",text) # pattern starts with carat `^`,searches text starts with that specified pattern\n",
        "#pattern ends with dollar `$`,searches text ends with that specified pattern"
      ],
      "metadata": {
        "colab": {
          "base_uri": "https://localhost:8080/"
        },
        "id": "TqHDyAiUpie0",
        "outputId": "55a4430e-453c-498a-ac93-e56fe5dd950a"
      },
      "execution_count": 5,
      "outputs": [
        {
          "output_type": "execute_result",
          "data": {
            "text/plain": [
              "<re.Match object; span=(0, 3), match='Ana'>"
            ]
          },
          "metadata": {},
          "execution_count": 5
        }
      ]
    },
    {
      "cell_type": "code",
      "source": [
        "# If we want to count the number of appearance of word 'Anannya' in `text`,we can simply write re.findall('Anannya',text)\n",
        "#  but if we want to count the number of appearances of range of characters like A,n,y ,then we must not do re.findall('Any',text)\n",
        "re.findall('[Any]',text)"
      ],
      "metadata": {
        "colab": {
          "base_uri": "https://localhost:8080/"
        },
        "id": "RviAQi-wqHMl",
        "outputId": "69d6ad3a-7d5e-4681-d205-44a57bd80e3c"
      },
      "execution_count": 6,
      "outputs": [
        {
          "output_type": "execute_result",
          "data": {
            "text/plain": [
              "['A',\n",
              " 'n',\n",
              " 'n',\n",
              " 'n',\n",
              " 'y',\n",
              " 'A',\n",
              " 'n',\n",
              " 'n',\n",
              " 'n',\n",
              " 'y',\n",
              " 'y',\n",
              " 'n',\n",
              " 'n',\n",
              " 'A',\n",
              " 'n',\n",
              " 'n',\n",
              " 'n',\n",
              " 'y',\n",
              " 'y',\n",
              " 'y']"
            ]
          },
          "metadata": {},
          "execution_count": 6
        }
      ]
    },
    {
      "cell_type": "code",
      "source": [
        "reg='ABACCCDADBBACC'\n",
        "print(re.findall('[A][B-D]',reg)) #The hiphen `-` signifies range\n",
        "print(re.findall('[A][B,D]',reg))#The comma `,` signifies only those elements"
      ],
      "metadata": {
        "colab": {
          "base_uri": "https://localhost:8080/"
        },
        "id": "PudRCtL9rV1A",
        "outputId": "be2bda2d-5a6b-4599-d993-baa690bddd17"
      },
      "execution_count": 7,
      "outputs": [
        {
          "output_type": "stream",
          "name": "stdout",
          "text": [
            "['AB', 'AC', 'AD', 'AC']\n",
            "['AB', 'AD']\n"
          ]
        }
      ]
    },
    {
      "cell_type": "code",
      "source": [
        "print(re.findall('AB|AC',reg))\n",
        "#we can use carat to negate the given text\n",
        "print(re.findall('[^A]',reg))\n",
        "print(re.findall(\"^[^A]\",text))#It want to match any string that doesn't begin with A"
      ],
      "metadata": {
        "colab": {
          "base_uri": "https://localhost:8080/"
        },
        "id": "Epz4c1Z9zqs0",
        "outputId": "9b339396-cf01-4ea9-9f3f-f263982f0d0d"
      },
      "execution_count": 8,
      "outputs": [
        {
          "output_type": "stream",
          "name": "stdout",
          "text": [
            "['AB', 'AC', 'AC']\n",
            "['B', 'C', 'C', 'C', 'D', 'D', 'B', 'B', 'C', 'C']\n",
            "[]\n"
          ]
        }
      ]
    },
    {
      "cell_type": "code",
      "source": [
        "re.findall(\"C{2,10}\",reg)"
      ],
      "metadata": {
        "colab": {
          "base_uri": "https://localhost:8080/"
        },
        "id": "hpz3qReT13qs",
        "outputId": "fcbd44c3-7253-46d2-efe9-9f78ca58f21a"
      },
      "execution_count": 9,
      "outputs": [
        {
          "output_type": "execute_result",
          "data": {
            "text/plain": [
              "['CCC', 'CC']"
            ]
          },
          "metadata": {},
          "execution_count": 9
        }
      ]
    },
    {
      "cell_type": "code",
      "source": [
        "re.findall(\"C{1,1}C{1,1}\",reg)"
      ],
      "metadata": {
        "colab": {
          "base_uri": "https://localhost:8080/"
        },
        "id": "1CCHu5Ch5OFF",
        "outputId": "773282b5-637f-4db4-da16-51df024b0ea6"
      },
      "execution_count": 10,
      "outputs": [
        {
          "output_type": "execute_result",
          "data": {
            "text/plain": [
              "['CC', 'CC']"
            ]
          },
          "metadata": {},
          "execution_count": 10
        }
      ]
    },
    {
      "cell_type": "code",
      "source": [
        "import re\n",
        "\n",
        "# Sample text\n",
        "wiki_text = '''\n",
        "This is a sample document with headers.\n",
        "Overview[edit]\n",
        "records[edit]\n",
        "'''\n",
        "\n",
        "# Finding headers followed by '[edit]'\n",
        "headers = re.findall(r\"[a-zA-Z]{1,100}\\[edit\\]\", wiki_text)\n",
        "print(headers)\n",
        "\n",
        "\n",
        "\n",
        "# Using \\w to match any letter, digit, or underscore\n",
        "headers = re.findall(r\"\\w{1,100}\\[edit\\]\", wiki_text)\n",
        "print(headers)\n",
        "\n",
        "\n",
        "\n",
        "# Using \\w* to match 0 or more letters or digits\n",
        "headers = re.findall(r\"[\\w]*\\[edit\\]\", wiki_text)\n",
        "print(headers)\n",
        "\n",
        "# Find all sections that end with [edit]\n",
        "for title in re.findall(r\"[^\\[]*\\[edit\\]\", wiki_text):\n",
        "    # Split the title by \"[\" or \"]\" and take the part before \"[edit]\"\n",
        "    print(re.split(\"\\[|\\]\", title)[0])"
      ],
      "metadata": {
        "id": "JD7J4OWl8OKv",
        "colab": {
          "base_uri": "https://localhost:8080/"
        },
        "outputId": "8055a2ba-f385-44b4-c98e-456f62854d14"
      },
      "execution_count": 12,
      "outputs": [
        {
          "output_type": "stream",
          "name": "stdout",
          "text": [
            "['Overview[edit]', 'records[edit]']\n",
            "['Overview[edit]', 'records[edit]']\n",
            "['Overview[edit]', 'records[edit]']\n",
            "\n",
            "This is a sample document with headers.\n",
            "Overview\n",
            "\n",
            "records\n"
          ]
        }
      ]
    },
    {
      "cell_type": "markdown",
      "source": [
        "**re.finditer()**:\n",
        "re.finditer() returns an iterator yielding match objects over all non-overlapping matches of the pattern in a string. Unlike re.findall(), which returns a list of strings, re.finditer() gives match objects that contain detailed information about the match, including groups.\n",
        "**Regex Pattern**: `([\\w ]*)(\\[edit\\])`\n",
        "- ([\\w ]*): This part matches the actual section title. [\\w ] means any word character (letters, digits, or underscores) or spaces, and the * allows for zero or more occurrences. The parentheses indicate a capturing group, meaning it will be part of the result.\n",
        "(\\[edit\\]): This part matches \"[edit]\", which is typically found in Wikipedia section titles. The backslashes are used to escape the square brackets.\n",
        "item.groups():\n",
        "\n",
        "- This returns a tuple of all captured groups from the regex. In this case, it returns two groups for each match: the section title and the \"[edit]\" part.\n"
      ],
      "metadata": {
        "id": "XywX0rPeG-ta"
      }
    },
    {
      "cell_type": "code",
      "source": [
        "for item in re.finditer(r\"([\\w ]*)(\\[edit\\])\", wiki_text):\n",
        "    print(item.groups())\n"
      ],
      "metadata": {
        "colab": {
          "base_uri": "https://localhost:8080/"
        },
        "id": "B_8nomvkFctq",
        "outputId": "69a2060d-5ea0-4aef-8e94-3c76cca91e6c"
      },
      "execution_count": 14,
      "outputs": [
        {
          "output_type": "stream",
          "name": "stdout",
          "text": [
            "('Overview', '[edit]')\n",
            "('records', '[edit]')\n"
          ]
        }
      ]
    },
    {
      "cell_type": "code",
      "source": [
        "for item in re.finditer(r\"([\\w ]*)(\\[edit\\])\", wiki_text):\n",
        "    print(item.group(1))"
      ],
      "metadata": {
        "colab": {
          "base_uri": "https://localhost:8080/"
        },
        "id": "8tg1SwEsHjhJ",
        "outputId": "0e03b3df-b55f-4688-dc05-f24c849ce75b"
      },
      "execution_count": 16,
      "outputs": [
        {
          "output_type": "stream",
          "name": "stdout",
          "text": [
            "Overview\n",
            "records\n"
          ]
        }
      ]
    },
    {
      "cell_type": "code",
      "source": [],
      "metadata": {
        "id": "aXHBGeoFH6za"
      },
      "execution_count": null,
      "outputs": []
    }
  ]
}